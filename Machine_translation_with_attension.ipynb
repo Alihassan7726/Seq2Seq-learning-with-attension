{
  "nbformat": 4,
  "nbformat_minor": 0,
  "metadata": {
    "colab": {
      "name": "Machine translation with attension.ipynb",
      "provenance": [],
      "collapsed_sections": [],
      "authorship_tag": "ABX9TyOEE6ymwZvgZdVLPcVoiOc6",
      "include_colab_link": true
    },
    "kernelspec": {
      "name": "python3",
      "display_name": "Python 3"
    },
    "language_info": {
      "name": "python"
    },
    "accelerator": "GPU"
  },
  "cells": [
    {
      "cell_type": "markdown",
      "metadata": {
        "id": "view-in-github",
        "colab_type": "text"
      },
      "source": [
        "<a href=\"https://colab.research.google.com/github/Alihassan7726/Seq2Seq-learning-with-attension/blob/main/Machine_translation_with_attension.ipynb\" target=\"_parent\"><img src=\"https://colab.research.google.com/assets/colab-badge.svg\" alt=\"Open In Colab\"/></a>"
      ]
    },
    {
      "cell_type": "markdown",
      "metadata": {
        "id": "86AYpaWyPa3P"
      },
      "source": [
        "## **Spanish to English translation using Encoder & Decoder model with attension mechanism.**"
      ]
    },
    {
      "cell_type": "markdown",
      "metadata": {
        "id": "YGv42XwlzCai"
      },
      "source": [
        "## Steps inovolved :\n",
        "\n",
        "1. Downlaoding and preparing DataSet .\n",
        "\n",
        "2. Cleaning Text , adding <'START'> and <'END'> tokens . \n",
        "\n",
        "3. Creating word2idx and idx2word dictionaries .\n",
        "\n",
        "4. Padding Sequences . \n",
        "\n",
        "5. Splitting Data .\n",
        "\n",
        "6. Creating tf.keras DataSet . \n",
        "\n",
        "7. Creating Encoder_Class for encoder model and checking input/output shapes . \n",
        "\n",
        "8. Creating Attension_Class for alignment model and checking input/output shapes . \n",
        "\n",
        "9. Creating Decoder_Class for alignment model and checking input/output shapes . \n",
        "10. Defining optimizor , loss function model checkpoint . \n",
        "\n",
        "11. Defining training function and training loop . \n",
        "\n",
        "12. Function for inference and plotting results . \n",
        "\n",
        "13. Predictions .  \n"
      ]
    },
    {
      "cell_type": "code",
      "metadata": {
        "colab": {
          "base_uri": "https://localhost:8080/",
          "height": 35
        },
        "id": "lL_FQ82jk5QE",
        "outputId": "2e8f2aab-634a-4975-b7f7-731f04027c31"
      },
      "source": [
        "import tensorflow as tf\n",
        "tf.test.gpu_device_name()"
      ],
      "execution_count": null,
      "outputs": [
        {
          "output_type": "execute_result",
          "data": {
            "application/vnd.google.colaboratory.intrinsic+json": {
              "type": "string"
            },
            "text/plain": [
              "'/device:GPU:0'"
            ]
          },
          "metadata": {
            "tags": []
          },
          "execution_count": 1
        }
      ]
    },
    {
      "cell_type": "code",
      "metadata": {
        "id": "8EJm3-An_ODr"
      },
      "source": [
        "import tensorflow as tf\n",
        "\n",
        "import matplotlib.pyplot as plt\n",
        "import matplotlib.ticker as ticker\n",
        "from sklearn.model_selection import train_test_split\n",
        "\n",
        "import unicodedata\n",
        "import re\n",
        "import numpy as np\n",
        "import os\n",
        "import io\n",
        "import time"
      ],
      "execution_count": null,
      "outputs": []
    },
    {
      "cell_type": "markdown",
      "metadata": {
        "id": "xyCHvQrKzsEn"
      },
      "source": [
        "## 1. Downloading and preparing DataSet .\n"
      ]
    },
    {
      "cell_type": "code",
      "metadata": {
        "colab": {
          "base_uri": "https://localhost:8080/"
        },
        "id": "CBcxS0V6Ai2d",
        "outputId": "1dc1911e-a5d6-4a62-99af-8330d43af2e2"
      },
      "source": [
        "# Downloading the file\n",
        "path_to_zip = tf.keras.utils.get_file(\n",
        "    'spa-eng.zip', origin='http://storage.googleapis.com/download.tensorflow.org/data/spa-eng.zip',\n",
        "    extract=True)\n",
        "\n",
        "print(path_to_zip)"
      ],
      "execution_count": null,
      "outputs": [
        {
          "output_type": "stream",
          "text": [
            "Downloading data from http://storage.googleapis.com/download.tensorflow.org/data/spa-eng.zip\n",
            "2646016/2638744 [==============================] - 0s 0us/step\n",
            "/root/.keras/datasets/spa-eng.zip\n"
          ],
          "name": "stdout"
        }
      ]
    },
    {
      "cell_type": "code",
      "metadata": {
        "id": "vAdoSFf1A6Y5"
      },
      "source": [
        "path_to_file = os.path.dirname(path_to_zip)+\"/spa-eng/spa.txt\""
      ],
      "execution_count": null,
      "outputs": []
    },
    {
      "cell_type": "code",
      "metadata": {
        "colab": {
          "base_uri": "https://localhost:8080/",
          "height": 35
        },
        "id": "LangW9KfBM3W",
        "outputId": "ff399eba-7074-4b0a-afb9-a7d250993fe8"
      },
      "source": [
        "# Opening file\n",
        "with open(path_to_file , 'r' , encoding='utf-8') as f:\n",
        "    lines = f.read().split('\\n')\n",
        "num_samples = 5\n",
        "# reading 5 lines\n",
        "for line in lines[: min(num_samples , len(lines)-1)]:\n",
        "    input_text , target_text = line.split('\\t')\n",
        "input_text"
      ],
      "execution_count": null,
      "outputs": [
        {
          "output_type": "execute_result",
          "data": {
            "application/vnd.google.colaboratory.intrinsic+json": {
              "type": "string"
            },
            "text/plain": [
              "'Hi.'"
            ]
          },
          "metadata": {
            "tags": []
          },
          "execution_count": 5
        }
      ]
    },
    {
      "cell_type": "code",
      "metadata": {
        "colab": {
          "base_uri": "https://localhost:8080/",
          "height": 35
        },
        "id": "X6eQjLhtBezx",
        "outputId": "d6bc1b50-dac0-4a18-a866-0895495647bf"
      },
      "source": [
        "line"
      ],
      "execution_count": null,
      "outputs": [
        {
          "output_type": "execute_result",
          "data": {
            "application/vnd.google.colaboratory.intrinsic+json": {
              "type": "string"
            },
            "text/plain": [
              "'Hi.\\tHola.'"
            ]
          },
          "metadata": {
            "tags": []
          },
          "execution_count": 6
        }
      ]
    },
    {
      "cell_type": "markdown",
      "metadata": {
        "id": "BxGHFVCBzydf"
      },
      "source": [
        "## 2. Cleaning Text , adding <'START'> and <'END'> tokens . \n"
      ]
    },
    {
      "cell_type": "code",
      "metadata": {
        "id": "BOwCO4wwBplZ"
      },
      "source": [
        "# Converts the unicode file to ascii\n",
        "def unicode_to_ascii(text):\n",
        "  return ''.join(c for c in unicodedata.normalize('NFD', text)\n",
        "                 if unicodedata.category(c) != 'Mn')\n",
        "\n",
        "\n",
        "def preprocess_sentence(text):\n",
        "  sent = unicode_to_ascii(text.lower().strip())\n",
        "\n",
        "  # creating a space between a word and the punctuation following it\n",
        "  # eg: \"he is a boy.\" => \"he is a boy .\"\n",
        "  sent = re.sub(r\"([?.!,¿])\", r\" \\1 \", sent)\n",
        "  sent = re.sub(r'[\" \"]+', \" \", sent)\n",
        "\n",
        "\n",
        "  # replacing everything with space except (a-z, A-Z, \".\", \"?\", \"!\", \",\")\n",
        "  sent = re.sub(r\"[^a-zA-Z?.!,¿]+\", \" \", sent)\n",
        "\n",
        "  sent = sent.strip()\n",
        "\n",
        "  # adding a start and an end token to the sentence\n",
        "  # so that the model know when to start and stop predicting.\n",
        "  sent = '<start> ' + sent + ' <end>'\n",
        "  return sent"
      ],
      "execution_count": null,
      "outputs": []
    },
    {
      "cell_type": "code",
      "metadata": {
        "colab": {
          "base_uri": "https://localhost:8080/",
          "height": 35
        },
        "id": "WyHrQXNrCxzU",
        "outputId": "d28f0301-2d6e-499a-af14-135a02a5f7f0"
      },
      "source": [
        "preprocess_sentence(\"I,am interested in games.\")"
      ],
      "execution_count": null,
      "outputs": [
        {
          "output_type": "execute_result",
          "data": {
            "application/vnd.google.colaboratory.intrinsic+json": {
              "type": "string"
            },
            "text/plain": [
              "'<start> i , am interested in games . <end>'"
            ]
          },
          "metadata": {
            "tags": []
          },
          "execution_count": 8
        }
      ]
    },
    {
      "cell_type": "code",
      "metadata": {
        "colab": {
          "base_uri": "https://localhost:8080/"
        },
        "id": "JQ5SWfDJJEBi",
        "outputId": "b9a47916-da29-4198-b1d1-a122c12024d4"
      },
      "source": [
        "pairs = [['<start> go . <end>', '<start> ve . <end>'], ['<start> go . <end>', '<start> vete . <end>'], ['<start> go . <end>', '<start> vaya . <end>'], ['<start> go . <end>', '<start> vayase . <end>'], ['<start> hi . <end>', '<start> hola . <end>']]\n",
        "zip(pairs)"
      ],
      "execution_count": null,
      "outputs": [
        {
          "output_type": "execute_result",
          "data": {
            "text/plain": [
              "<zip at 0x7f97aca71320>"
            ]
          },
          "metadata": {
            "tags": []
          },
          "execution_count": 9
        }
      ]
    },
    {
      "cell_type": "code",
      "metadata": {
        "colab": {
          "base_uri": "https://localhost:8080/"
        },
        "id": "j_V0awSnJTEj",
        "outputId": "f384b432-1b49-4bae-e0bd-fe65dfa53eea"
      },
      "source": [
        "for i in zip(*pairs):\n",
        "  print(i)"
      ],
      "execution_count": null,
      "outputs": [
        {
          "output_type": "stream",
          "text": [
            "('<start> go . <end>', '<start> go . <end>', '<start> go . <end>', '<start> go . <end>', '<start> hi . <end>')\n",
            "('<start> ve . <end>', '<start> vete . <end>', '<start> vaya . <end>', '<start> vayase . <end>', '<start> hola . <end>')\n"
          ],
          "name": "stdout"
        }
      ]
    },
    {
      "cell_type": "code",
      "metadata": {
        "id": "j6avlOLWC5bk"
      },
      "source": [
        "# 1. Remove the accents\n",
        "# 2. Clean the sentences\n",
        "# 3. Return word pairs in the format: [ENGLISH, SPANISH]\n",
        "def create_dataset(path, num_examples):\n",
        "  lines = io.open(path, encoding='UTF-8').read().strip().split('\\n')\n",
        "\n",
        "  word_pairs = [[preprocess_sentence(w) for w in line.split('\\t')]\n",
        "                for line in lines[:num_examples]]\n",
        "  \n",
        "  return zip(*word_pairs)"
      ],
      "execution_count": null,
      "outputs": []
    },
    {
      "cell_type": "code",
      "metadata": {
        "colab": {
          "base_uri": "https://localhost:8080/"
        },
        "id": "foF9rBN0JAmr",
        "outputId": "a06cdc05-b06e-44b2-d8e3-3b470aee3763"
      },
      "source": [
        "\n",
        "en, sp = create_dataset(path_to_file, 5)\n",
        "en"
      ],
      "execution_count": null,
      "outputs": [
        {
          "output_type": "execute_result",
          "data": {
            "text/plain": [
              "('<start> go . <end>',\n",
              " '<start> go . <end>',\n",
              " '<start> go . <end>',\n",
              " '<start> go . <end>',\n",
              " '<start> hi . <end>')"
            ]
          },
          "metadata": {
            "tags": []
          },
          "execution_count": 12
        }
      ]
    },
    {
      "cell_type": "code",
      "metadata": {
        "colab": {
          "base_uri": "https://localhost:8080/"
        },
        "id": "787d_VB5Jg-B",
        "outputId": "dfcbab54-fb65-4417-e9bf-c1cb6cda92b6"
      },
      "source": [
        "# Below we can see very long sentences to be translated so seq2seq with attension is much better then basic one specially in this case.\n",
        "en, sp = create_dataset(path_to_file, None)\n",
        "print(en[-1])\n",
        "print(sp[-1])\n"
      ],
      "execution_count": null,
      "outputs": [
        {
          "output_type": "stream",
          "text": [
            "<start> if you want to sound like a native speaker , you must be willing to practice saying the same sentence over and over in the same way that banjo players practice the same phrase over and over until they can play it correctly and at the desired tempo . <end>\n",
            "<start> si quieres sonar como un hablante nativo , debes estar dispuesto a practicar diciendo la misma frase una y otra vez de la misma manera en que un musico de banjo practica el mismo fraseo una y otra vez hasta que lo puedan tocar correctamente y en el tiempo esperado . <end>\n"
          ],
          "name": "stdout"
        }
      ]
    },
    {
      "cell_type": "markdown",
      "metadata": {
        "id": "vmfFKTCGz1fC"
      },
      "source": [
        "## 3. Creating word2idx and idx2word dictionaries .\n"
      ]
    },
    {
      "cell_type": "code",
      "metadata": {
        "id": "7fSZ8Dq-KCVg"
      },
      "source": [
        "# tokenizing and padding\n",
        "def tokenize(lang):\n",
        "  lang_tokenizer = tf.keras.preprocessing.text.Tokenizer(filters='')\n",
        "  lang_tokenizer.fit_on_texts(lang)\n",
        "\n",
        "  tensor = lang_tokenizer.texts_to_sequences(lang)\n",
        "\n",
        "  tensor = tf.keras.preprocessing.sequence.pad_sequences(tensor,\n",
        "                                                         padding='post')\n",
        "\n",
        "  return tensor, lang_tokenizer"
      ],
      "execution_count": null,
      "outputs": []
    },
    {
      "cell_type": "code",
      "metadata": {
        "id": "n6nKbWmULXeL"
      },
      "source": [
        "def load_dataset(path, num_examples=None):\n",
        "  # creating cleaned input, output pairs\n",
        "  targ_lang, inp_lang = create_dataset(path, num_examples)\n",
        "\n",
        "  input_tensor, inp_lang_tokenizer = tokenize(inp_lang)\n",
        "  target_tensor, targ_lang_tokenizer = tokenize(targ_lang)\n",
        "\n",
        "  return input_tensor, target_tensor, inp_lang_tokenizer, targ_lang_tokenizer"
      ],
      "execution_count": null,
      "outputs": []
    },
    {
      "cell_type": "code",
      "metadata": {
        "colab": {
          "base_uri": "https://localhost:8080/"
        },
        "id": "uoe3gEPtLjPM",
        "outputId": "b76ec9cf-b6a9-4e81-e115-ac60874fbc13"
      },
      "source": [
        "# Limiting the size of data to just 50000 samples to be translated\n",
        "num_examples = 50000\n",
        "input_tensor, target_tensor, inp_lang_tokenizer, targ_lang_tokenizer = load_dataset(path_to_file,\n",
        "                                                                num_examples)\n",
        "\n",
        "print(input_tensor.shape)\n",
        "print(target_tensor.shape)"
      ],
      "execution_count": null,
      "outputs": [
        {
          "output_type": "stream",
          "text": [
            "(50000, 16)\n",
            "(50000, 12)\n"
          ],
          "name": "stdout"
        }
      ]
    },
    {
      "cell_type": "markdown",
      "metadata": {
        "id": "YcE9b6Xu0M33"
      },
      "source": [
        "## 5. Splitting Data .\n"
      ]
    },
    {
      "cell_type": "code",
      "metadata": {
        "colab": {
          "base_uri": "https://localhost:8080/"
        },
        "id": "DYrA3A_hMFBG",
        "outputId": "c471ad83-0963-45ee-fd99-bf62d82c4c3f"
      },
      "source": [
        "max_length_targ , max_length_inp = target_tensor.shape[1], input_tensor.shape[1]\n",
        "print(max_length_targ)\n",
        "print(max_length_inp)\n",
        "\n",
        "# Splitting the data using a 90-10 split\n",
        "input_tensor_train, input_tensor_val, target_tensor_train, target_tensor_val = train_test_split(input_tensor, target_tensor, test_size=0.1)\n",
        "\n",
        "print(len(input_tensor_train), len(target_tensor_train), len(input_tensor_val), len(target_tensor_val))\n"
      ],
      "execution_count": null,
      "outputs": [
        {
          "output_type": "stream",
          "text": [
            "12\n",
            "16\n",
            "45000 45000 5000 5000\n"
          ],
          "name": "stdout"
        }
      ]
    },
    {
      "cell_type": "code",
      "metadata": {
        "colab": {
          "base_uri": "https://localhost:8080/"
        },
        "id": "sdia0yKXMwg7",
        "outputId": "8675a947-aca2-47c4-86c0-8cf9cbb5a2ff"
      },
      "source": [
        "input_tensor_train[0]"
      ],
      "execution_count": null,
      "outputs": [
        {
          "output_type": "execute_result",
          "data": {
            "text/plain": [
              "array([ 1,  7, 40, 72, 33,  6,  3,  2,  0,  0,  0,  0,  0,  0,  0,  0],\n",
              "      dtype=int32)"
            ]
          },
          "metadata": {
            "tags": []
          },
          "execution_count": 18
        }
      ]
    },
    {
      "cell_type": "code",
      "metadata": {
        "id": "lTAFxZdVNGK2"
      },
      "source": [
        "# index to word mapping\n",
        "def index_to_word(lang_tokenizer , tensor):\n",
        "  for t in tensor:\n",
        "    if t!=0:\n",
        "      print(f'{t} -----> {lang_tokenizer.index_word[t]}')"
      ],
      "execution_count": null,
      "outputs": []
    },
    {
      "cell_type": "code",
      "metadata": {
        "colab": {
          "base_uri": "https://localhost:8080/"
        },
        "id": "3vFOsvSDNrcO",
        "outputId": "698e7d04-c269-47ab-c1d0-21210a6e09cd"
      },
      "source": [
        "index_to_word(inp_lang_tokenizer , input_tensor_train[0])"
      ],
      "execution_count": null,
      "outputs": [
        {
          "output_type": "stream",
          "text": [
            "1 -----> <start>\n",
            "7 -----> no\n",
            "40 -----> puedo\n",
            "72 -----> ir\n",
            "33 -----> con\n",
            "6 -----> tom\n",
            "3 -----> .\n",
            "2 -----> <end>\n"
          ],
          "name": "stdout"
        }
      ]
    },
    {
      "cell_type": "code",
      "metadata": {
        "colab": {
          "base_uri": "https://localhost:8080/"
        },
        "id": "AHfyrhFgNyWq",
        "outputId": "0d9f21d0-2ba3-4134-f0a4-e8be694339d2"
      },
      "source": [
        "\n",
        "index_to_word(targ_lang_tokenizer , target_tensor_train[0])"
      ],
      "execution_count": null,
      "outputs": [
        {
          "output_type": "stream",
          "text": [
            "1 -----> <start>\n",
            "4 -----> i\n",
            "25 -----> can\n",
            "12 -----> t\n",
            "64 -----> come\n",
            "61 -----> with\n",
            "7 -----> tom\n",
            "3 -----> .\n",
            "2 -----> <end>\n"
          ],
          "name": "stdout"
        }
      ]
    },
    {
      "cell_type": "markdown",
      "metadata": {
        "id": "jJO0fWlnOpN3"
      },
      "source": [
        "\n",
        "## 6. Creating a tf.keras.dataset more specifically a generator object to save memory as well as computation power by providing slices/batch of data during execution so that only that small batch is loaded into memory at a particular time  "
      ]
    },
    {
      "cell_type": "code",
      "metadata": {
        "id": "a1w3pzJAOUjp"
      },
      "source": [
        "\n",
        "BUFFER_SIZE = len(input_tensor_train)\n",
        "BATCH_SIZE = 64\n",
        "steps_per_epoch = len(input_tensor_train)//BATCH_SIZE\n",
        "embedding_dim = 256\n",
        "units = 1024\n",
        "vocab_inp_size = len(inp_lang_tokenizer.word_index)+1 # Equivalent to num_encoder_tokens\n",
        "vocab_tar_size = len(targ_lang_tokenizer.word_index)+1\n",
        "\n",
        "dataset = tf.data.Dataset.from_tensor_slices((input_tensor_train, target_tensor_train)).shuffle(BUFFER_SIZE)\n",
        "dataset = dataset.batch(BATCH_SIZE, drop_remainder=True)"
      ],
      "execution_count": null,
      "outputs": []
    },
    {
      "cell_type": "code",
      "metadata": {
        "colab": {
          "base_uri": "https://localhost:8080/"
        },
        "id": "iC3pjjFyPwez",
        "outputId": "667aa363-ea55-46e6-ad50-f0a7aead89a0"
      },
      "source": [
        "print(len(dataset))"
      ],
      "execution_count": null,
      "outputs": [
        {
          "output_type": "stream",
          "text": [
            "703\n"
          ],
          "name": "stdout"
        }
      ]
    },
    {
      "cell_type": "code",
      "metadata": {
        "colab": {
          "base_uri": "https://localhost:8080/"
        },
        "id": "hGocgPYEPzqb",
        "outputId": "8357da2d-30ec-4c91-cdc1-e7751571b07b"
      },
      "source": [
        "example_input_batch, example_target_batch = next(iter(dataset))\n",
        "example_input_batch.shape, example_target_batch.shape"
      ],
      "execution_count": null,
      "outputs": [
        {
          "output_type": "execute_result",
          "data": {
            "text/plain": [
              "(TensorShape([64, 16]), TensorShape([64, 12]))"
            ]
          },
          "metadata": {
            "tags": []
          },
          "execution_count": 24
        }
      ]
    },
    {
      "cell_type": "code",
      "metadata": {
        "id": "qYcET-Z9P6v-",
        "colab": {
          "base_uri": "https://localhost:8080/"
        },
        "outputId": "cfa2bf55-ed22-4206-924a-3e14f4011bb9"
      },
      "source": [
        "print(\"Input vocabulary size \" , vocab_inp_size)\n",
        "dataset.take(1)"
      ],
      "execution_count": null,
      "outputs": [
        {
          "output_type": "stream",
          "text": [
            "Input vocabulary size  12999\n"
          ],
          "name": "stdout"
        },
        {
          "output_type": "execute_result",
          "data": {
            "text/plain": [
              "<TakeDataset shapes: ((64, 16), (64, 12)), types: (tf.int32, tf.int32)>"
            ]
          },
          "metadata": {
            "tags": []
          },
          "execution_count": 25
        }
      ]
    },
    {
      "cell_type": "code",
      "metadata": {
        "colab": {
          "base_uri": "https://localhost:8080/"
        },
        "collapsed": true,
        "id": "afHV-xnllzoz",
        "outputId": "eda69c25-5261-461f-9a2c-73ab1e89647a"
      },
      "source": [
        "i = 0\n",
        "for (batch, (inp, targ)) in enumerate(dataset.take(steps_per_epoch)):\n",
        "    print(targ.shape)\n",
        "    i+=1\n",
        "print(i)"
      ],
      "execution_count": null,
      "outputs": [
        {
          "output_type": "stream",
          "text": [
            "(64, 12)\n",
            "(64, 12)\n",
            "(64, 12)\n",
            "(64, 12)\n",
            "(64, 12)\n",
            "(64, 12)\n",
            "(64, 12)\n",
            "(64, 12)\n",
            "(64, 12)\n",
            "(64, 12)\n",
            "(64, 12)\n",
            "(64, 12)\n",
            "(64, 12)\n",
            "(64, 12)\n",
            "(64, 12)\n",
            "(64, 12)\n",
            "(64, 12)\n",
            "(64, 12)\n",
            "(64, 12)\n",
            "(64, 12)\n",
            "(64, 12)\n",
            "(64, 12)\n",
            "(64, 12)\n",
            "(64, 12)\n",
            "(64, 12)\n",
            "(64, 12)\n",
            "(64, 12)\n",
            "(64, 12)\n",
            "(64, 12)\n",
            "(64, 12)\n",
            "(64, 12)\n",
            "(64, 12)\n",
            "(64, 12)\n",
            "(64, 12)\n",
            "(64, 12)\n",
            "(64, 12)\n",
            "(64, 12)\n",
            "(64, 12)\n",
            "(64, 12)\n",
            "(64, 12)\n",
            "(64, 12)\n",
            "(64, 12)\n",
            "(64, 12)\n",
            "(64, 12)\n",
            "(64, 12)\n",
            "(64, 12)\n",
            "(64, 12)\n",
            "(64, 12)\n",
            "(64, 12)\n",
            "(64, 12)\n",
            "(64, 12)\n",
            "(64, 12)\n",
            "(64, 12)\n",
            "(64, 12)\n",
            "(64, 12)\n",
            "(64, 12)\n",
            "(64, 12)\n",
            "(64, 12)\n",
            "(64, 12)\n",
            "(64, 12)\n",
            "(64, 12)\n",
            "(64, 12)\n",
            "(64, 12)\n",
            "(64, 12)\n",
            "(64, 12)\n",
            "(64, 12)\n",
            "(64, 12)\n",
            "(64, 12)\n",
            "(64, 12)\n",
            "(64, 12)\n",
            "(64, 12)\n",
            "(64, 12)\n",
            "(64, 12)\n",
            "(64, 12)\n",
            "(64, 12)\n",
            "(64, 12)\n",
            "(64, 12)\n",
            "(64, 12)\n",
            "(64, 12)\n",
            "(64, 12)\n",
            "(64, 12)\n",
            "(64, 12)\n",
            "(64, 12)\n",
            "(64, 12)\n",
            "(64, 12)\n",
            "(64, 12)\n",
            "(64, 12)\n",
            "(64, 12)\n",
            "(64, 12)\n",
            "(64, 12)\n",
            "(64, 12)\n",
            "(64, 12)\n",
            "(64, 12)\n",
            "(64, 12)\n",
            "(64, 12)\n",
            "(64, 12)\n",
            "(64, 12)\n",
            "(64, 12)\n",
            "(64, 12)\n",
            "(64, 12)\n",
            "(64, 12)\n",
            "(64, 12)\n",
            "(64, 12)\n",
            "(64, 12)\n",
            "(64, 12)\n",
            "(64, 12)\n",
            "(64, 12)\n",
            "(64, 12)\n",
            "(64, 12)\n",
            "(64, 12)\n",
            "(64, 12)\n",
            "(64, 12)\n",
            "(64, 12)\n",
            "(64, 12)\n",
            "(64, 12)\n",
            "(64, 12)\n",
            "(64, 12)\n",
            "(64, 12)\n",
            "(64, 12)\n",
            "(64, 12)\n",
            "(64, 12)\n",
            "(64, 12)\n",
            "(64, 12)\n",
            "(64, 12)\n",
            "(64, 12)\n",
            "(64, 12)\n",
            "(64, 12)\n",
            "(64, 12)\n",
            "(64, 12)\n",
            "(64, 12)\n",
            "(64, 12)\n",
            "(64, 12)\n",
            "(64, 12)\n",
            "(64, 12)\n",
            "(64, 12)\n",
            "(64, 12)\n",
            "(64, 12)\n",
            "(64, 12)\n",
            "(64, 12)\n",
            "(64, 12)\n",
            "(64, 12)\n",
            "(64, 12)\n",
            "(64, 12)\n",
            "(64, 12)\n",
            "(64, 12)\n",
            "(64, 12)\n",
            "(64, 12)\n",
            "(64, 12)\n",
            "(64, 12)\n",
            "(64, 12)\n",
            "(64, 12)\n",
            "(64, 12)\n",
            "(64, 12)\n",
            "(64, 12)\n",
            "(64, 12)\n",
            "(64, 12)\n",
            "(64, 12)\n",
            "(64, 12)\n",
            "(64, 12)\n",
            "(64, 12)\n",
            "(64, 12)\n",
            "(64, 12)\n",
            "(64, 12)\n",
            "(64, 12)\n",
            "(64, 12)\n",
            "(64, 12)\n",
            "(64, 12)\n",
            "(64, 12)\n",
            "(64, 12)\n",
            "(64, 12)\n",
            "(64, 12)\n",
            "(64, 12)\n",
            "(64, 12)\n",
            "(64, 12)\n",
            "(64, 12)\n",
            "(64, 12)\n",
            "(64, 12)\n",
            "(64, 12)\n",
            "(64, 12)\n",
            "(64, 12)\n",
            "(64, 12)\n",
            "(64, 12)\n",
            "(64, 12)\n",
            "(64, 12)\n",
            "(64, 12)\n",
            "(64, 12)\n",
            "(64, 12)\n",
            "(64, 12)\n",
            "(64, 12)\n",
            "(64, 12)\n",
            "(64, 12)\n",
            "(64, 12)\n",
            "(64, 12)\n",
            "(64, 12)\n",
            "(64, 12)\n",
            "(64, 12)\n",
            "(64, 12)\n",
            "(64, 12)\n",
            "(64, 12)\n",
            "(64, 12)\n",
            "(64, 12)\n",
            "(64, 12)\n",
            "(64, 12)\n",
            "(64, 12)\n",
            "(64, 12)\n",
            "(64, 12)\n",
            "(64, 12)\n",
            "(64, 12)\n",
            "(64, 12)\n",
            "(64, 12)\n",
            "(64, 12)\n",
            "(64, 12)\n",
            "(64, 12)\n",
            "(64, 12)\n",
            "(64, 12)\n",
            "(64, 12)\n",
            "(64, 12)\n",
            "(64, 12)\n",
            "(64, 12)\n",
            "(64, 12)\n",
            "(64, 12)\n",
            "(64, 12)\n",
            "(64, 12)\n",
            "(64, 12)\n",
            "(64, 12)\n",
            "(64, 12)\n",
            "(64, 12)\n",
            "(64, 12)\n",
            "(64, 12)\n",
            "(64, 12)\n",
            "(64, 12)\n",
            "(64, 12)\n",
            "(64, 12)\n",
            "(64, 12)\n",
            "(64, 12)\n",
            "(64, 12)\n",
            "(64, 12)\n",
            "(64, 12)\n",
            "(64, 12)\n",
            "(64, 12)\n",
            "(64, 12)\n",
            "(64, 12)\n",
            "(64, 12)\n",
            "(64, 12)\n",
            "(64, 12)\n",
            "(64, 12)\n",
            "(64, 12)\n",
            "(64, 12)\n",
            "(64, 12)\n",
            "(64, 12)\n",
            "(64, 12)\n",
            "(64, 12)\n",
            "(64, 12)\n",
            "(64, 12)\n",
            "(64, 12)\n",
            "(64, 12)\n",
            "(64, 12)\n",
            "(64, 12)\n",
            "(64, 12)\n",
            "(64, 12)\n",
            "(64, 12)\n",
            "(64, 12)\n",
            "(64, 12)\n",
            "(64, 12)\n",
            "(64, 12)\n",
            "(64, 12)\n",
            "(64, 12)\n",
            "(64, 12)\n",
            "(64, 12)\n",
            "(64, 12)\n",
            "(64, 12)\n",
            "(64, 12)\n",
            "(64, 12)\n",
            "(64, 12)\n",
            "(64, 12)\n",
            "(64, 12)\n",
            "(64, 12)\n",
            "(64, 12)\n",
            "(64, 12)\n",
            "(64, 12)\n",
            "(64, 12)\n",
            "(64, 12)\n",
            "(64, 12)\n",
            "(64, 12)\n",
            "(64, 12)\n",
            "(64, 12)\n",
            "(64, 12)\n",
            "(64, 12)\n",
            "(64, 12)\n",
            "(64, 12)\n",
            "(64, 12)\n",
            "(64, 12)\n",
            "(64, 12)\n",
            "(64, 12)\n",
            "(64, 12)\n",
            "(64, 12)\n",
            "(64, 12)\n",
            "(64, 12)\n",
            "(64, 12)\n",
            "(64, 12)\n",
            "(64, 12)\n",
            "(64, 12)\n",
            "(64, 12)\n",
            "(64, 12)\n",
            "(64, 12)\n",
            "(64, 12)\n",
            "(64, 12)\n",
            "(64, 12)\n",
            "(64, 12)\n",
            "(64, 12)\n",
            "(64, 12)\n",
            "(64, 12)\n",
            "(64, 12)\n",
            "(64, 12)\n",
            "(64, 12)\n",
            "(64, 12)\n",
            "(64, 12)\n",
            "(64, 12)\n",
            "(64, 12)\n",
            "(64, 12)\n",
            "(64, 12)\n",
            "(64, 12)\n",
            "(64, 12)\n",
            "(64, 12)\n",
            "(64, 12)\n",
            "(64, 12)\n",
            "(64, 12)\n",
            "(64, 12)\n",
            "(64, 12)\n",
            "(64, 12)\n",
            "(64, 12)\n",
            "(64, 12)\n",
            "(64, 12)\n",
            "(64, 12)\n",
            "(64, 12)\n",
            "(64, 12)\n",
            "(64, 12)\n",
            "(64, 12)\n",
            "(64, 12)\n",
            "(64, 12)\n",
            "(64, 12)\n",
            "(64, 12)\n",
            "(64, 12)\n",
            "(64, 12)\n",
            "(64, 12)\n",
            "(64, 12)\n",
            "(64, 12)\n",
            "(64, 12)\n",
            "(64, 12)\n",
            "(64, 12)\n",
            "(64, 12)\n",
            "(64, 12)\n",
            "(64, 12)\n",
            "(64, 12)\n",
            "(64, 12)\n",
            "(64, 12)\n",
            "(64, 12)\n",
            "(64, 12)\n",
            "(64, 12)\n",
            "(64, 12)\n",
            "(64, 12)\n",
            "(64, 12)\n",
            "(64, 12)\n",
            "(64, 12)\n",
            "(64, 12)\n",
            "(64, 12)\n",
            "(64, 12)\n",
            "(64, 12)\n",
            "(64, 12)\n",
            "(64, 12)\n",
            "(64, 12)\n",
            "(64, 12)\n",
            "(64, 12)\n",
            "(64, 12)\n",
            "(64, 12)\n",
            "(64, 12)\n",
            "(64, 12)\n",
            "(64, 12)\n",
            "(64, 12)\n",
            "(64, 12)\n",
            "(64, 12)\n",
            "(64, 12)\n",
            "(64, 12)\n",
            "(64, 12)\n",
            "(64, 12)\n",
            "(64, 12)\n",
            "(64, 12)\n",
            "(64, 12)\n",
            "(64, 12)\n",
            "(64, 12)\n",
            "(64, 12)\n",
            "(64, 12)\n",
            "(64, 12)\n",
            "(64, 12)\n",
            "(64, 12)\n",
            "(64, 12)\n",
            "(64, 12)\n",
            "(64, 12)\n",
            "(64, 12)\n",
            "(64, 12)\n",
            "(64, 12)\n",
            "(64, 12)\n",
            "(64, 12)\n",
            "(64, 12)\n",
            "(64, 12)\n",
            "(64, 12)\n",
            "(64, 12)\n",
            "(64, 12)\n",
            "(64, 12)\n",
            "(64, 12)\n",
            "(64, 12)\n",
            "(64, 12)\n",
            "(64, 12)\n",
            "(64, 12)\n",
            "(64, 12)\n",
            "(64, 12)\n",
            "(64, 12)\n",
            "(64, 12)\n",
            "(64, 12)\n",
            "(64, 12)\n",
            "(64, 12)\n",
            "(64, 12)\n",
            "(64, 12)\n",
            "(64, 12)\n",
            "(64, 12)\n",
            "(64, 12)\n",
            "(64, 12)\n",
            "(64, 12)\n",
            "(64, 12)\n",
            "(64, 12)\n",
            "(64, 12)\n",
            "(64, 12)\n",
            "(64, 12)\n",
            "(64, 12)\n",
            "(64, 12)\n",
            "(64, 12)\n",
            "(64, 12)\n",
            "(64, 12)\n",
            "(64, 12)\n",
            "(64, 12)\n",
            "(64, 12)\n",
            "(64, 12)\n",
            "(64, 12)\n",
            "(64, 12)\n",
            "(64, 12)\n",
            "(64, 12)\n",
            "(64, 12)\n",
            "(64, 12)\n",
            "(64, 12)\n",
            "(64, 12)\n",
            "(64, 12)\n",
            "(64, 12)\n",
            "(64, 12)\n",
            "(64, 12)\n",
            "(64, 12)\n",
            "(64, 12)\n",
            "(64, 12)\n",
            "(64, 12)\n",
            "(64, 12)\n",
            "(64, 12)\n",
            "(64, 12)\n",
            "(64, 12)\n",
            "(64, 12)\n",
            "(64, 12)\n",
            "(64, 12)\n",
            "(64, 12)\n",
            "(64, 12)\n",
            "(64, 12)\n",
            "(64, 12)\n",
            "(64, 12)\n",
            "(64, 12)\n",
            "(64, 12)\n",
            "(64, 12)\n",
            "(64, 12)\n",
            "(64, 12)\n",
            "(64, 12)\n",
            "(64, 12)\n",
            "(64, 12)\n",
            "(64, 12)\n",
            "(64, 12)\n",
            "(64, 12)\n",
            "(64, 12)\n",
            "(64, 12)\n",
            "(64, 12)\n",
            "(64, 12)\n",
            "(64, 12)\n",
            "(64, 12)\n",
            "(64, 12)\n",
            "(64, 12)\n",
            "(64, 12)\n",
            "(64, 12)\n",
            "(64, 12)\n",
            "(64, 12)\n",
            "(64, 12)\n",
            "(64, 12)\n",
            "(64, 12)\n",
            "(64, 12)\n",
            "(64, 12)\n",
            "(64, 12)\n",
            "(64, 12)\n",
            "(64, 12)\n",
            "(64, 12)\n",
            "(64, 12)\n",
            "(64, 12)\n",
            "(64, 12)\n",
            "(64, 12)\n",
            "(64, 12)\n",
            "(64, 12)\n",
            "(64, 12)\n",
            "(64, 12)\n",
            "(64, 12)\n",
            "(64, 12)\n",
            "(64, 12)\n",
            "(64, 12)\n",
            "(64, 12)\n",
            "(64, 12)\n",
            "(64, 12)\n",
            "(64, 12)\n",
            "(64, 12)\n",
            "(64, 12)\n",
            "(64, 12)\n",
            "(64, 12)\n",
            "(64, 12)\n",
            "(64, 12)\n",
            "(64, 12)\n",
            "(64, 12)\n",
            "(64, 12)\n",
            "(64, 12)\n",
            "(64, 12)\n",
            "(64, 12)\n",
            "(64, 12)\n",
            "(64, 12)\n",
            "(64, 12)\n",
            "(64, 12)\n",
            "(64, 12)\n",
            "(64, 12)\n",
            "(64, 12)\n",
            "(64, 12)\n",
            "(64, 12)\n",
            "(64, 12)\n",
            "(64, 12)\n",
            "(64, 12)\n",
            "(64, 12)\n",
            "(64, 12)\n",
            "(64, 12)\n",
            "(64, 12)\n",
            "(64, 12)\n",
            "(64, 12)\n",
            "(64, 12)\n",
            "(64, 12)\n",
            "(64, 12)\n",
            "(64, 12)\n",
            "(64, 12)\n",
            "(64, 12)\n",
            "(64, 12)\n",
            "(64, 12)\n",
            "(64, 12)\n",
            "(64, 12)\n",
            "(64, 12)\n",
            "(64, 12)\n",
            "(64, 12)\n",
            "(64, 12)\n",
            "(64, 12)\n",
            "(64, 12)\n",
            "(64, 12)\n",
            "(64, 12)\n",
            "(64, 12)\n",
            "(64, 12)\n",
            "(64, 12)\n",
            "(64, 12)\n",
            "(64, 12)\n",
            "(64, 12)\n",
            "(64, 12)\n",
            "(64, 12)\n",
            "(64, 12)\n",
            "(64, 12)\n",
            "(64, 12)\n",
            "(64, 12)\n",
            "(64, 12)\n",
            "(64, 12)\n",
            "(64, 12)\n",
            "(64, 12)\n",
            "(64, 12)\n",
            "(64, 12)\n",
            "(64, 12)\n",
            "(64, 12)\n",
            "(64, 12)\n",
            "(64, 12)\n",
            "(64, 12)\n",
            "(64, 12)\n",
            "(64, 12)\n",
            "(64, 12)\n",
            "(64, 12)\n",
            "(64, 12)\n",
            "(64, 12)\n",
            "(64, 12)\n",
            "(64, 12)\n",
            "(64, 12)\n",
            "(64, 12)\n",
            "(64, 12)\n",
            "(64, 12)\n",
            "(64, 12)\n",
            "(64, 12)\n",
            "(64, 12)\n",
            "(64, 12)\n",
            "(64, 12)\n",
            "(64, 12)\n",
            "(64, 12)\n",
            "(64, 12)\n",
            "(64, 12)\n",
            "(64, 12)\n",
            "(64, 12)\n",
            "(64, 12)\n",
            "(64, 12)\n",
            "(64, 12)\n",
            "(64, 12)\n",
            "(64, 12)\n",
            "(64, 12)\n",
            "(64, 12)\n",
            "(64, 12)\n",
            "(64, 12)\n",
            "(64, 12)\n",
            "(64, 12)\n",
            "(64, 12)\n",
            "(64, 12)\n",
            "(64, 12)\n",
            "(64, 12)\n",
            "(64, 12)\n",
            "(64, 12)\n",
            "(64, 12)\n",
            "(64, 12)\n",
            "(64, 12)\n",
            "(64, 12)\n",
            "(64, 12)\n",
            "(64, 12)\n",
            "(64, 12)\n",
            "(64, 12)\n",
            "(64, 12)\n",
            "(64, 12)\n",
            "(64, 12)\n",
            "(64, 12)\n",
            "(64, 12)\n",
            "(64, 12)\n",
            "(64, 12)\n",
            "(64, 12)\n",
            "(64, 12)\n",
            "(64, 12)\n",
            "(64, 12)\n",
            "(64, 12)\n",
            "(64, 12)\n",
            "(64, 12)\n",
            "(64, 12)\n",
            "(64, 12)\n",
            "(64, 12)\n",
            "(64, 12)\n",
            "(64, 12)\n",
            "(64, 12)\n",
            "(64, 12)\n",
            "(64, 12)\n",
            "(64, 12)\n",
            "(64, 12)\n",
            "(64, 12)\n",
            "(64, 12)\n",
            "(64, 12)\n",
            "(64, 12)\n",
            "(64, 12)\n",
            "(64, 12)\n",
            "(64, 12)\n",
            "(64, 12)\n",
            "(64, 12)\n",
            "(64, 12)\n",
            "(64, 12)\n",
            "(64, 12)\n",
            "(64, 12)\n",
            "(64, 12)\n",
            "(64, 12)\n",
            "(64, 12)\n",
            "(64, 12)\n",
            "(64, 12)\n",
            "(64, 12)\n",
            "(64, 12)\n",
            "(64, 12)\n",
            "(64, 12)\n",
            "(64, 12)\n",
            "(64, 12)\n",
            "(64, 12)\n",
            "(64, 12)\n",
            "(64, 12)\n",
            "(64, 12)\n",
            "(64, 12)\n",
            "(64, 12)\n",
            "(64, 12)\n",
            "(64, 12)\n",
            "(64, 12)\n",
            "(64, 12)\n",
            "(64, 12)\n",
            "(64, 12)\n",
            "(64, 12)\n",
            "(64, 12)\n",
            "(64, 12)\n",
            "(64, 12)\n",
            "(64, 12)\n",
            "(64, 12)\n",
            "703\n"
          ],
          "name": "stdout"
        }
      ]
    },
    {
      "cell_type": "code",
      "metadata": {
        "colab": {
          "base_uri": "https://localhost:8080/"
        },
        "id": "YrWui_sMtasc",
        "outputId": "c0186a22-3e30-4227-cd29-24f252f48acf"
      },
      "source": [
        "print(input_tensor_train.shape[1]) # Equivalent to max_source_lenght\n"
      ],
      "execution_count": null,
      "outputs": [
        {
          "output_type": "stream",
          "text": [
            "16\n"
          ],
          "name": "stdout"
        }
      ]
    },
    {
      "cell_type": "markdown",
      "metadata": {
        "id": "Vah1sgFjrvSI"
      },
      "source": [
        "### return_sequences=True , return_state=False :                          \n",
        "return stacked hidden states (num_timesteps * num_cells): one hidden state output for each input time step\n",
        "\n",
        "\n",
        "### return_sequences=True , return_state=True :\n",
        "return 3 arrays: stacked hidden states, last state_h, last state_c\n",
        "\n",
        "\n",
        "### return_sequences=False, return_state=True :\n",
        "return 3 arrays: state_h, state_h, state_c\n",
        "\n",
        "\n",
        "### return_sequences=False, return_state=False :\n",
        "returns the last hidden state state_h"
      ]
    },
    {
      "cell_type": "markdown",
      "metadata": {
        "id": "olHmAQpF0-zQ"
      },
      "source": [
        "## 7. Creating Encoder_Class for encoder model and checking input/output shapes . \n"
      ]
    },
    {
      "cell_type": "code",
      "metadata": {
        "id": "w_sOY3h_q_eN"
      },
      "source": [
        "class Encoder(tf.keras.Model):\n",
        "  def __init__(self, vocab_size, embedding_dim, enc_units, batch_sz):\n",
        "    super(Encoder, self).__init__()\n",
        "    self.batch_sz = batch_sz\n",
        "    self.enc_units = enc_units\n",
        "    self.embedding = tf.keras.layers.Embedding(vocab_size, embedding_dim)\n",
        "    self.gru = tf.keras.layers.GRU(self.enc_units,\n",
        "                                   return_sequences=True,\n",
        "                                   return_state=True,\n",
        "                                   recurrent_initializer='glorot_uniform')\n",
        "\n",
        "  def call(self, x, hidden):\n",
        "    x = self.embedding(x)\n",
        "    output, state = self.gru(x, initial_state=hidden)\n",
        "    return output, state\n",
        "\n",
        "  def initialize_hidden_state(self):\n",
        "    return tf.zeros((self.batch_sz, self.enc_units))"
      ],
      "execution_count": null,
      "outputs": []
    },
    {
      "cell_type": "code",
      "metadata": {
        "colab": {
          "base_uri": "https://localhost:8080/"
        },
        "id": "JCDGjWIDs3cK",
        "outputId": "e56eea1e-fde2-4f58-9a10-5f9c67f608c0"
      },
      "source": [
        "encoder = Encoder(vocab_inp_size, embedding_dim, units, BATCH_SIZE)\n",
        "\n",
        "# sample input\n",
        "sample_hidden = encoder.initialize_hidden_state()\n",
        "sample_output, sample_hidden = encoder(example_input_batch, sample_hidden)\n",
        "print('Encoder output shape: (batch size, sequence length, units)', sample_output.shape)\n",
        "print('Encoder Hidden state shape: (batch size, units)', sample_hidden.shape)"
      ],
      "execution_count": null,
      "outputs": [
        {
          "output_type": "stream",
          "text": [
            "Encoder output shape: (batch size, sequence length, units) (64, 16, 1024)\n",
            "Encoder Hidden state shape: (batch size, units) (64, 1024)\n"
          ],
          "name": "stdout"
        }
      ]
    },
    {
      "cell_type": "code",
      "metadata": {
        "id": "gDCidP3Tuae7",
        "colab": {
          "base_uri": "https://localhost:8080/"
        },
        "outputId": "4336c239-c073-45c2-f76d-70b28aa09d1b"
      },
      "source": [
        "arr = np.zeros(shape = (1,5))\n",
        "arr"
      ],
      "execution_count": null,
      "outputs": [
        {
          "output_type": "execute_result",
          "data": {
            "text/plain": [
              "array([[0., 0., 0., 0., 0.]])"
            ]
          },
          "metadata": {
            "tags": []
          },
          "execution_count": 30
        }
      ]
    },
    {
      "cell_type": "code",
      "metadata": {
        "colab": {
          "base_uri": "https://localhost:8080/"
        },
        "id": "nTT9NyzJzMpA",
        "outputId": "12020e12-3aac-416d-9ca8-190e727308dd"
      },
      "source": [
        "\n",
        "tf.expand_dims(arr, 1)"
      ],
      "execution_count": null,
      "outputs": [
        {
          "output_type": "execute_result",
          "data": {
            "text/plain": [
              "<tf.Tensor: shape=(1, 1, 5), dtype=float64, numpy=array([[[0., 0., 0., 0., 0.]]])>"
            ]
          },
          "metadata": {
            "tags": []
          },
          "execution_count": 31
        }
      ]
    },
    {
      "cell_type": "markdown",
      "metadata": {
        "id": "ZclBHKqc1HIl"
      },
      "source": [
        "## 8. Creating Attension_Class for alignment model and checking input/output shapes . \n"
      ]
    },
    {
      "cell_type": "code",
      "metadata": {
        "id": "lcpb0LEWzvcp"
      },
      "source": [
        "class BahdanauAttention(tf.keras.layers.Layer):\n",
        "  def __init__(self, units):\n",
        "    super(BahdanauAttention, self).__init__()\n",
        "    self.W1 = tf.keras.layers.Dense(units)\n",
        "    self.W2 = tf.keras.layers.Dense(units)\n",
        "    self.V = tf.keras.layers.Dense(1)\n",
        "\n",
        "  def call(self, query, values):\n",
        "    # query hidden state shape == (batch_size, hidden size)\n",
        "    # query_with_time_axis shape == (batch_size, 1, hidden size)\n",
        "    # values shape == (batch_size, max_len, hidden size)\n",
        "    # we are doing this to broadcast addition along the time axis to calculate the score\n",
        "    query_with_time_axis = tf.expand_dims(query, 1)\n",
        "\n",
        "    # score shape == (batch_size, max_length, 1)\n",
        "    # we get 1 at the last axis because we are applying score to self.V\n",
        "    # the shape of the tensor before applying self.V is (batch_size, max_length, units)\n",
        "    score = self.V(tf.nn.tanh(\n",
        "        self.W1(query_with_time_axis) + self.W2(values)))\n",
        "\n",
        "    # attention_weights shape == (batch_size, max_length, 1)\n",
        "    attention_weights = tf.nn.softmax(score, axis=1)\n",
        "\n",
        "    # context_vector shape after sum == (batch_size, hidden_size)\n",
        "    context_vector = attention_weights * values\n",
        "    context_vector = tf.reduce_sum(context_vector, axis=1)\n",
        "\n",
        "    return context_vector, attention_weights"
      ],
      "execution_count": null,
      "outputs": []
    },
    {
      "cell_type": "code",
      "metadata": {
        "colab": {
          "base_uri": "https://localhost:8080/"
        },
        "id": "lhluScsP10rs",
        "outputId": "dd2c084d-167d-4a75-83a3-363d29440a9a"
      },
      "source": [
        "\n",
        "attention_layer = BahdanauAttention(10)\n",
        "attention_result, attention_weights = attention_layer(sample_hidden, sample_output)\n",
        "\n",
        "print(\"Attention result shape: (batch size, units)\", attention_result.shape)\n",
        "print(\"Attention weights shape: (batch_size, sequence_length, 1)\", attention_weights.shape)"
      ],
      "execution_count": null,
      "outputs": [
        {
          "output_type": "stream",
          "text": [
            "Attention result shape: (batch size, units) (64, 1024)\n",
            "Attention weights shape: (batch_size, sequence_length, 1) (64, 16, 1)\n"
          ],
          "name": "stdout"
        }
      ]
    },
    {
      "cell_type": "markdown",
      "metadata": {
        "id": "5egcuAHh1MoC"
      },
      "source": [
        "## 9. Creating Decoder_Class for alignment model and checking input/output shapes . \n"
      ]
    },
    {
      "cell_type": "code",
      "metadata": {
        "id": "Pz2S6GIo2EPj"
      },
      "source": [
        "class Decoder(tf.keras.Model):\n",
        "  def __init__(self, vocab_size, embedding_dim, dec_units, batch_sz):\n",
        "    super(Decoder, self).__init__()\n",
        "    self.batch_sz = batch_sz\n",
        "    self.dec_units = dec_units\n",
        "    self.embedding = tf.keras.layers.Embedding(vocab_size, embedding_dim)\n",
        "    self.gru = tf.keras.layers.GRU(self.dec_units,\n",
        "                                   return_sequences=True,\n",
        "                                   return_state=True,\n",
        "                                   recurrent_initializer='glorot_uniform')\n",
        "    self.fc = tf.keras.layers.Dense(vocab_size)\n",
        "\n",
        "    # used for attention\n",
        "    self.attention = BahdanauAttention(self.dec_units)\n",
        "\n",
        "  def call(self, x, hidden, enc_output):\n",
        "    # enc_output shape == (batch_size, max_length, hidden_size)\n",
        "    context_vector, attention_weights = self.attention(hidden, enc_output)\n",
        "\n",
        "    # x shape after passing through embedding == (batch_size, 1, embedding_dim)\n",
        "    x = self.embedding(x)\n",
        "\n",
        "    # x shape after concatenation == (batch_size, 1, embedding_dim + hidden_size)\n",
        "    x = tf.concat([tf.expand_dims(context_vector, 1), x], axis=-1)\n",
        "\n",
        "    # passing the concatenated vector to the GRU\n",
        "    output, state = self.gru(x)\n",
        "\n",
        "    # output shape == (batch_size * 1, hidden_size)\n",
        "    output = tf.reshape(output, (-1, output.shape[2]))\n",
        "\n",
        "    # output shape == (batch_size, vocab)\n",
        "    x = self.fc(output)\n",
        "\n",
        "    return x, state, attention_weights"
      ],
      "execution_count": null,
      "outputs": []
    },
    {
      "cell_type": "code",
      "metadata": {
        "colab": {
          "base_uri": "https://localhost:8080/"
        },
        "id": "KqumSnqfoomb",
        "outputId": "ecbc3360-4ce8-4106-ac1a-0b4b5c79154f"
      },
      "source": [
        "decoder = Decoder(vocab_tar_size, embedding_dim, units, BATCH_SIZE)\n",
        "\n",
        "sample_decoder_output, _, _ = decoder(tf.random.uniform((BATCH_SIZE, 1)),\n",
        "                                      sample_hidden, sample_output)\n",
        "\n",
        "print('Decoder output shape: (batch_size, vocab size)', sample_decoder_output.shape)"
      ],
      "execution_count": null,
      "outputs": [
        {
          "output_type": "stream",
          "text": [
            "Decoder output shape: (batch_size, vocab size) (64, 6817)\n"
          ],
          "name": "stdout"
        }
      ]
    },
    {
      "cell_type": "markdown",
      "metadata": {
        "id": "c3W_HWYYji8H"
      },
      "source": [
        "## 10. Defining optimizor , loss function , model checkpoint . "
      ]
    },
    {
      "cell_type": "code",
      "metadata": {
        "id": "bqIEJgGOpnMG"
      },
      "source": [
        "# Initialize optimizer and loss functions\n",
        "optimizer = tf.keras.optimizers.Adam()\n",
        "\n",
        "loss_object = tf.keras.losses.SparseCategoricalCrossentropy(\n",
        "    from_logits=True, reduction='none')\n",
        "\n",
        "# Loss function\n",
        "def loss_function(real, pred):\n",
        "\n",
        "  # Take care of the padding. Not all sequences are of equal length.\n",
        "  # If there's a '0' in the sequence, the loss is being nullified\n",
        "  mask = tf.math.logical_not(tf.math.equal(real, 0))\n",
        "  loss_ = loss_object(real, pred)\n",
        "\n",
        "  mask = tf.cast(mask, dtype=loss_.dtype)\n",
        "  loss_ *= mask\n",
        "\n",
        "  return tf.reduce_mean(loss_)"
      ],
      "execution_count": null,
      "outputs": []
    },
    {
      "cell_type": "code",
      "metadata": {
        "id": "Zqq4G0HnkV0V"
      },
      "source": [
        "checkpoint_dir = './training_checkpoints'\n",
        "checkpoint_prefix = os.path.join(checkpoint_dir, \"ckpt\")\n",
        "checkpoint = tf.train.Checkpoint(optimizer=optimizer,\n",
        "                                 encoder=encoder,\n",
        "                                 decoder=decoder)\n"
      ],
      "execution_count": null,
      "outputs": []
    },
    {
      "cell_type": "code",
      "metadata": {
        "colab": {
          "base_uri": "https://localhost:8080/",
          "height": 35
        },
        "id": "xkLRUcTHk8zv",
        "outputId": "aca242e8-80b2-4e65-c839-ec375ccb047a"
      },
      "source": [
        "tf.__version__"
      ],
      "execution_count": null,
      "outputs": [
        {
          "output_type": "execute_result",
          "data": {
            "application/vnd.google.colaboratory.intrinsic+json": {
              "type": "string"
            },
            "text/plain": [
              "'2.4.1'"
            ]
          },
          "metadata": {
            "tags": []
          },
          "execution_count": 38
        }
      ]
    },
    {
      "cell_type": "code",
      "metadata": {
        "colab": {
          "base_uri": "https://localhost:8080/"
        },
        "id": "VWY84ei4lFoV",
        "outputId": "a4283157-a434-480c-d6a6-3e5e83f1f8cd"
      },
      "source": [
        "tf.random.uniform((2*5, 1))"
      ],
      "execution_count": null,
      "outputs": [
        {
          "output_type": "execute_result",
          "data": {
            "text/plain": [
              "<tf.Tensor: shape=(10, 1), dtype=float32, numpy=\n",
              "array([[0.505347  ],\n",
              "       [0.15939331],\n",
              "       [0.07847762],\n",
              "       [0.8046496 ],\n",
              "       [0.71810555],\n",
              "       [0.50567234],\n",
              "       [0.2876259 ],\n",
              "       [0.72645986],\n",
              "       [0.81402516],\n",
              "       [0.08972228]], dtype=float32)>"
            ]
          },
          "metadata": {
            "tags": []
          },
          "execution_count": 39
        }
      ]
    },
    {
      "cell_type": "code",
      "metadata": {
        "colab": {
          "base_uri": "https://localhost:8080/"
        },
        "id": "_9LG5NmLnZDZ",
        "outputId": "10b49482-7179-4279-8371-2990f754ed9e"
      },
      "source": [
        "tf.expand_dims([2]*5,1)"
      ],
      "execution_count": null,
      "outputs": [
        {
          "output_type": "execute_result",
          "data": {
            "text/plain": [
              "<tf.Tensor: shape=(5, 1), dtype=int32, numpy=\n",
              "array([[2],\n",
              "       [2],\n",
              "       [2],\n",
              "       [2],\n",
              "       [2]], dtype=int32)>"
            ]
          },
          "metadata": {
            "tags": []
          },
          "execution_count": 40
        }
      ]
    },
    {
      "cell_type": "markdown",
      "metadata": {
        "id": "mzev5O4a1pQT"
      },
      "source": [
        "## 11. Defining training function and training loop . "
      ]
    },
    {
      "cell_type": "code",
      "metadata": {
        "id": "8GtEOHE2oTJI"
      },
      "source": [
        "@tf.function\n",
        "def train_step(inp, targ, enc_hidden):\n",
        "  loss = 0\n",
        "\n",
        "  with tf.GradientTape() as tape:\n",
        "    enc_output, enc_hidden = encoder(inp, enc_hidden)\n",
        "\n",
        "    dec_hidden = enc_hidden\n",
        "\n",
        "    dec_input = tf.expand_dims([targ_lang_tokenizer.word_index['<start>']] * BATCH_SIZE, 1)\n",
        "\n",
        "    # Teacher forcing - feeding the target as the next input\n",
        "    for t in range(1, targ.shape[1]):\n",
        "      # passing enc_output to the decoder\n",
        "      predictions, dec_hidden, _ = decoder(dec_input, dec_hidden, enc_output)\n",
        "\n",
        "      loss += loss_function(targ[:, t], predictions)\n",
        "\n",
        "      # using teacher forcing\n",
        "      dec_input = tf.expand_dims(targ[:, t], 1)\n",
        "\n",
        "  batch_loss = (loss / int(targ.shape[1]))\n",
        "\n",
        "  variables = encoder.trainable_variables + decoder.trainable_variables\n",
        "\n",
        "  gradients = tape.gradient(loss, variables)\n",
        "\n",
        "  optimizer.apply_gradients(zip(gradients, variables))\n",
        "\n",
        "  return batch_loss"
      ],
      "execution_count": null,
      "outputs": []
    },
    {
      "cell_type": "code",
      "metadata": {
        "id": "N5hRf1hjoZuN",
        "colab": {
          "base_uri": "https://localhost:8080/"
        },
        "outputId": "e4ad5911-64d8-4ffa-c63b-9ce33ca13bc6"
      },
      "source": [
        "EPOCHS = 10\n",
        "\n",
        "for epoch in range(EPOCHS):\n",
        "  start = time.time()\n",
        "\n",
        "  enc_hidden = encoder.initialize_hidden_state()\n",
        "  total_loss = 0\n",
        "\n",
        "  for (batch, (inp, targ)) in enumerate(dataset.take(steps_per_epoch)):\n",
        "    batch_loss = train_step(inp, targ, enc_hidden)\n",
        "    total_loss += batch_loss\n",
        "\n",
        "    if batch % 100 == 0:\n",
        "      print(f'Epoch {epoch+1} Batch {batch} Loss {batch_loss.numpy():.4f}')\n",
        "  # saving (checkpoint) the model every 2 epochs\n",
        "  if (epoch + 1) % 2 == 0:\n",
        "    checkpoint.save(file_prefix=checkpoint_prefix)\n",
        "\n",
        "  print(f'Epoch {epoch+1} Loss {total_loss/steps_per_epoch:.4f}')\n",
        "  print(f'Time taken for 1 epoch {time.time()-start:.2f} sec\\n')"
      ],
      "execution_count": null,
      "outputs": [
        {
          "output_type": "stream",
          "text": [
            "Epoch 1 Batch 0 Loss 4.7238\n",
            "Epoch 1 Batch 100 Loss 2.2359\n",
            "Epoch 1 Batch 200 Loss 1.9210\n",
            "Epoch 1 Batch 300 Loss 1.9224\n",
            "Epoch 1 Batch 400 Loss 1.6647\n",
            "Epoch 1 Batch 500 Loss 1.6364\n",
            "Epoch 1 Batch 600 Loss 1.4834\n",
            "Epoch 1 Batch 700 Loss 1.3497\n",
            "Epoch 1 Loss 1.8805\n",
            "Time taken for 1 epoch 93.95 sec\n",
            "\n",
            "Epoch 2 Batch 0 Loss 1.2303\n",
            "Epoch 2 Batch 100 Loss 1.1513\n",
            "Epoch 2 Batch 200 Loss 1.0473\n",
            "Epoch 2 Batch 300 Loss 1.1273\n",
            "Epoch 2 Batch 400 Loss 0.9585\n",
            "Epoch 2 Batch 500 Loss 0.9079\n",
            "Epoch 2 Batch 600 Loss 0.8674\n",
            "Epoch 2 Batch 700 Loss 0.7378\n",
            "Epoch 2 Loss 1.0362\n",
            "Time taken for 1 epoch 81.19 sec\n",
            "\n",
            "Epoch 3 Batch 0 Loss 0.6980\n",
            "Epoch 3 Batch 100 Loss 0.6528\n",
            "Epoch 3 Batch 200 Loss 0.5398\n",
            "Epoch 3 Batch 300 Loss 0.4933\n",
            "Epoch 3 Batch 400 Loss 0.5095\n",
            "Epoch 3 Batch 500 Loss 0.6867\n",
            "Epoch 3 Batch 600 Loss 0.5420\n",
            "Epoch 3 Batch 700 Loss 0.5346\n",
            "Epoch 3 Loss 0.6176\n",
            "Time taken for 1 epoch 80.26 sec\n",
            "\n",
            "Epoch 4 Batch 0 Loss 0.4154\n",
            "Epoch 4 Batch 100 Loss 0.4405\n",
            "Epoch 4 Batch 200 Loss 0.4677\n",
            "Epoch 4 Batch 300 Loss 0.3657\n",
            "Epoch 4 Batch 400 Loss 0.3900\n",
            "Epoch 4 Batch 500 Loss 0.4122\n",
            "Epoch 4 Batch 600 Loss 0.3877\n",
            "Epoch 4 Batch 700 Loss 0.4335\n",
            "Epoch 4 Loss 0.4006\n",
            "Time taken for 1 epoch 78.39 sec\n",
            "\n",
            "Epoch 5 Batch 0 Loss 0.2839\n",
            "Epoch 5 Batch 100 Loss 0.2819\n",
            "Epoch 5 Batch 200 Loss 0.2879\n",
            "Epoch 5 Batch 300 Loss 0.2595\n",
            "Epoch 5 Batch 400 Loss 0.2509\n",
            "Epoch 5 Batch 500 Loss 0.2209\n",
            "Epoch 5 Batch 600 Loss 0.2440\n",
            "Epoch 5 Batch 700 Loss 0.3007\n",
            "Epoch 5 Loss 0.2742\n",
            "Time taken for 1 epoch 77.75 sec\n",
            "\n",
            "Epoch 6 Batch 0 Loss 0.1755\n",
            "Epoch 6 Batch 100 Loss 0.1428\n",
            "Epoch 6 Batch 200 Loss 0.2169\n",
            "Epoch 6 Batch 300 Loss 0.2505\n",
            "Epoch 6 Batch 400 Loss 0.2105\n",
            "Epoch 6 Batch 500 Loss 0.2400\n",
            "Epoch 6 Batch 600 Loss 0.1869\n",
            "Epoch 6 Batch 700 Loss 0.2249\n",
            "Epoch 6 Loss 0.1982\n",
            "Time taken for 1 epoch 77.02 sec\n",
            "\n",
            "Epoch 7 Batch 0 Loss 0.1140\n",
            "Epoch 7 Batch 100 Loss 0.1503\n",
            "Epoch 7 Batch 200 Loss 0.1315\n",
            "Epoch 7 Batch 300 Loss 0.1390\n",
            "Epoch 7 Batch 400 Loss 0.1470\n",
            "Epoch 7 Batch 500 Loss 0.1750\n",
            "Epoch 7 Batch 600 Loss 0.1563\n",
            "Epoch 7 Batch 700 Loss 0.1932\n",
            "Epoch 7 Loss 0.1496\n",
            "Time taken for 1 epoch 77.00 sec\n",
            "\n",
            "Epoch 8 Batch 0 Loss 0.1341\n",
            "Epoch 8 Batch 100 Loss 0.0974\n",
            "Epoch 8 Batch 200 Loss 0.1213\n",
            "Epoch 8 Batch 300 Loss 0.1625\n",
            "Epoch 8 Batch 400 Loss 0.1446\n",
            "Epoch 8 Batch 500 Loss 0.1276\n",
            "Epoch 8 Batch 600 Loss 0.1217\n",
            "Epoch 8 Batch 700 Loss 0.1704\n",
            "Epoch 8 Loss 0.1198\n",
            "Time taken for 1 epoch 77.39 sec\n",
            "\n",
            "Epoch 9 Batch 0 Loss 0.1039\n",
            "Epoch 9 Batch 100 Loss 0.1092\n",
            "Epoch 9 Batch 200 Loss 0.1026\n",
            "Epoch 9 Batch 300 Loss 0.1178\n",
            "Epoch 9 Batch 400 Loss 0.0859\n",
            "Epoch 9 Batch 500 Loss 0.1388\n",
            "Epoch 9 Batch 600 Loss 0.1195\n",
            "Epoch 9 Batch 700 Loss 0.1014\n",
            "Epoch 9 Loss 0.0993\n",
            "Time taken for 1 epoch 76.67 sec\n",
            "\n",
            "Epoch 10 Batch 0 Loss 0.0835\n",
            "Epoch 10 Batch 100 Loss 0.0741\n",
            "Epoch 10 Batch 200 Loss 0.0885\n",
            "Epoch 10 Batch 300 Loss 0.0887\n",
            "Epoch 10 Batch 400 Loss 0.1011\n",
            "Epoch 10 Batch 500 Loss 0.0896\n",
            "Epoch 10 Batch 600 Loss 0.0721\n",
            "Epoch 10 Batch 700 Loss 0.0748\n",
            "Epoch 10 Loss 0.0890\n",
            "Time taken for 1 epoch 78.14 sec\n",
            "\n"
          ],
          "name": "stdout"
        }
      ]
    },
    {
      "cell_type": "markdown",
      "metadata": {
        "id": "2MRdfaJE2WVj"
      },
      "source": [
        "## 12. Function for inference and plotting results . \n"
      ]
    },
    {
      "cell_type": "code",
      "metadata": {
        "id": "FZX9A9QEHnYv"
      },
      "source": [
        "def evaluate(sentence):\n",
        "  attention_plot = np.zeros((max_length_targ, max_length_inp))\n",
        "\n",
        "  sentence = preprocess_sentence(sentence)\n",
        "\n",
        "  inputs = [inp_lang_tokenizer.word_index[i] for i in sentence.split(' ')]\n",
        "  inputs = tf.keras.preprocessing.sequence.pad_sequences([inputs],\n",
        "                                                         maxlen=max_length_inp,\n",
        "                                                         padding='post')\n",
        "  inputs = tf.convert_to_tensor(inputs)\n",
        "\n",
        "  result = ''\n",
        "\n",
        "  hidden = [tf.zeros((1, units))]\n",
        "  enc_out, enc_hidden = encoder(inputs, hidden)\n",
        "\n",
        "  dec_hidden = enc_hidden\n",
        "  dec_input = tf.expand_dims([targ_lang_tokenizer.word_index['<start>']], 0)\n",
        "\n",
        "  for t in range(max_length_targ):\n",
        "    predictions, dec_hidden, attention_weights = decoder(dec_input,\n",
        "                                                         dec_hidden,\n",
        "                                                         enc_out)\n",
        "\n",
        "    # storing the attention weights to plot later on\n",
        "    attention_weights = tf.reshape(attention_weights, (-1, ))\n",
        "    attention_plot[t] = attention_weights.numpy()\n",
        "\n",
        "    predicted_id = tf.argmax(predictions[0]).numpy()\n",
        "\n",
        "    result += targ_lang_tokenizer.index_word[predicted_id] + ' '\n",
        "\n",
        "    if targ_lang_tokenizer.index_word[predicted_id] == '<end>':\n",
        "      return result, sentence, attention_plot\n",
        "\n",
        "    # the predicted ID is fed back into the model\n",
        "    dec_input = tf.expand_dims([predicted_id], 0)\n",
        "\n",
        "  return result, sentence, attention_plot"
      ],
      "execution_count": null,
      "outputs": []
    },
    {
      "cell_type": "code",
      "metadata": {
        "id": "1Dx34htyKH4a"
      },
      "source": [
        "# function for plotting the attention weights\n",
        "def plot_attention(attention, sentence, predicted_sentence):\n",
        "  fig = plt.figure(figsize=(10, 10))\n",
        "  ax = fig.add_subplot(1, 1, 1)\n",
        "  ax.matshow(attention, cmap='viridis')\n",
        "\n",
        "  fontdict = {'fontsize': 14}\n",
        "\n",
        "  ax.set_xticklabels([''] + sentence, fontdict=fontdict, rotation=90)\n",
        "  ax.set_yticklabels([''] + predicted_sentence, fontdict=fontdict)\n",
        "\n",
        "  ax.xaxis.set_major_locator(ticker.MultipleLocator(1))\n",
        "  ax.yaxis.set_major_locator(ticker.MultipleLocator(1))\n",
        "\n",
        "  plt.show()"
      ],
      "execution_count": null,
      "outputs": []
    },
    {
      "cell_type": "code",
      "metadata": {
        "id": "d76fro4iKIt_"
      },
      "source": [
        "def translate(sentence):\n",
        "  result, sentence, attention_plot = evaluate(sentence)\n",
        "\n",
        "  print('Input:', sentence)\n",
        "  print('Predicted translation:', result)\n",
        "\n",
        "  attention_plot = attention_plot[:len(result.split(' ')),\n",
        "                                  :len(sentence.split(' '))]\n",
        "  plot_attention(attention_plot, sentence.split(' '), result.split(' '))"
      ],
      "execution_count": null,
      "outputs": []
    },
    {
      "cell_type": "code",
      "metadata": {
        "colab": {
          "base_uri": "https://localhost:8080/"
        },
        "id": "Ccoe8jPvKQM5",
        "outputId": "7f754856-15fa-45a1-9b31-846bae43978b"
      },
      "source": [
        "# restoring the latest checkpoint in checkpoint_dir\n",
        "checkpoint.restore(tf.train.latest_checkpoint(checkpoint_dir))"
      ],
      "execution_count": null,
      "outputs": [
        {
          "output_type": "execute_result",
          "data": {
            "text/plain": [
              "<tensorflow.python.training.tracking.util.CheckpointLoadStatus at 0x7f97aa881750>"
            ]
          },
          "metadata": {
            "tags": []
          },
          "execution_count": 52
        }
      ]
    },
    {
      "cell_type": "markdown",
      "metadata": {
        "id": "Z9mZS7e32ZZi"
      },
      "source": [
        "## 13. Predictions . "
      ]
    },
    {
      "cell_type": "code",
      "metadata": {
        "colab": {
          "base_uri": "https://localhost:8080/",
          "height": 675
        },
        "id": "B0uKHRUWKTXg",
        "outputId": "b3ab2382-5fd4-4505-de38-6d7b405b044d"
      },
      "source": [
        "translate(u'hace mucho frio aqui.')\n"
      ],
      "execution_count": null,
      "outputs": [
        {
          "output_type": "stream",
          "text": [
            "Input: <start> hace mucho frio aqui . <end>\n",
            "Predicted translation: it s very cold here . <end> \n"
          ],
          "name": "stdout"
        },
        {
          "output_type": "display_data",
          "data": {
            "image/png": "[encoded data removed]",
            "text/plain": [
              "<Figure size 720x720 with 1 Axes>"
            ]
          },
          "metadata": {
            "tags": [],
            "needs_background": "light"
          }
        }
      ]
    },
    {
      "cell_type": "code",
      "metadata": {
        "colab": {
          "base_uri": "https://localhost:8080/",
          "height": 675
        },
        "id": "ESVAppPNKZnh",
        "outputId": "7d038f16-d6d2-45bd-86b8-dc828f757ddb"
      },
      "source": [
        "translate(u'esta es mi vida.')\n"
      ],
      "execution_count": null,
      "outputs": [
        {
          "output_type": "stream",
          "text": [
            "Input: <start> esta es mi vida . <end>\n",
            "Predicted translation: this is my life . <end> \n"
          ],
          "name": "stdout"
        },
        {
          "output_type": "display_data",
          "data": {
            "image/png": "[encoded data removed]",
            "text/plain": [
              "<Figure size 720x720 with 1 Axes>"
            ]
          },
          "metadata": {
            "tags": [],
            "needs_background": "light"
          }
        }
      ]
    },
    {
      "cell_type": "code",
      "metadata": {
        "colab": {
          "base_uri": "https://localhost:8080/",
          "height": 675
        },
        "id": "bO0qBCVwKb4W",
        "outputId": "94a423ac-f265-49b5-8ee4-a95f647c0aff"
      },
      "source": [
        "translate(u'¿todavia estan en casa?')\n"
      ],
      "execution_count": null,
      "outputs": [
        {
          "output_type": "stream",
          "text": [
            "Input: <start> ¿ todavia estan en casa ? <end>\n",
            "Predicted translation: are you still at home ? <end> \n"
          ],
          "name": "stdout"
        },
        {
          "output_type": "display_data",
          "data": {
            "image/png": "[encoded data removed]",
            "text/plain": [
              "<Figure size 720x720 with 1 Axes>"
            ]
          },
          "metadata": {
            "tags": [],
            "needs_background": "light"
          }
        }
      ]
    },
    {
      "cell_type": "code",
      "metadata": {
        "id": "jsqIsQfkKd-6"
      },
      "source": [
        ""
      ],
      "execution_count": null,
      "outputs": []
    }
  ]
}